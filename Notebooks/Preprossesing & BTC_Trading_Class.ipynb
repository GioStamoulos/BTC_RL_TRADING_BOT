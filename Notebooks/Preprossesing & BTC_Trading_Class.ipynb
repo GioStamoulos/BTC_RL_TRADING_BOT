{
  "nbformat": 4,
  "nbformat_minor": 0,
  "metadata": {
    "colab": {
      "name": "Untitled32.ipynb",
      "provenance": []
    },
    "kernelspec": {
      "name": "python3",
      "display_name": "Python 3"
    },
    "language_info": {
      "name": "python"
    }
  },
  "cells": [
    {
      "cell_type": "markdown",
      "metadata": {
        "id": "KTUstqb_r2X-"
      },
      "source": [
        "#Preprossecing (install dependencies, preparing data, create environment & check profits doing random positions)"
      ]
    },
    {
      "cell_type": "code",
      "metadata": {
        "colab": {
          "base_uri": "https://localhost:8080/",
          "height": 1000
        },
        "id": "U8XjxWHya-EW",
        "outputId": "9c9188d1-ccb1-4c68-cf64-ac815461bb48"
      },
      "source": [
        "!pip install tensorflow-gpu==1.15.0 tensorflow==1.15.0 stable-baselines gym-anytrading gym"
      ],
      "execution_count": null,
      "outputs": [
        {
          "output_type": "stream",
          "text": [
            "Collecting tensorflow-gpu==1.15.0\n",
            "\u001b[?25l  Downloading https://files.pythonhosted.org/packages/bc/72/d06017379ad4760dc58781c765376ce4ba5dcf3c08d37032eeefbccf1c51/tensorflow_gpu-1.15.0-cp37-cp37m-manylinux2010_x86_64.whl (411.5MB)\n",
            "\u001b[K     |████████████████████████████████| 411.5MB 41kB/s \n",
            "\u001b[?25hCollecting tensorflow==1.15.0\n",
            "\u001b[?25l  Downloading https://files.pythonhosted.org/packages/92/2b/e3af15221da9ff323521565fa3324b0d7c7c5b1d7a8ca66984c8d59cb0ce/tensorflow-1.15.0-cp37-cp37m-manylinux2010_x86_64.whl (412.3MB)\n",
            "\u001b[K     |████████████████████████████████| 412.3MB 40kB/s \n",
            "\u001b[?25hCollecting stable-baselines\n",
            "\u001b[?25l  Downloading https://files.pythonhosted.org/packages/a2/c5/a60adb848f86219d19dd2d2bc4223b80e8d42802cc9e816955b6cfeffbdb/stable_baselines-2.10.2-py3-none-any.whl (240kB)\n",
            "\u001b[K     |████████████████████████████████| 245kB 49.5MB/s \n",
            "\u001b[?25hCollecting gym-anytrading\n",
            "\u001b[?25l  Downloading https://files.pythonhosted.org/packages/12/fe/80fb1c8e74e58dc9854f30dd5fed38038dc3c37208e8bb87fc01520d0499/gym_anytrading-1.2.0-py3-none-any.whl (171kB)\n",
            "\u001b[K     |████████████████████████████████| 174kB 50.4MB/s \n",
            "\u001b[?25hRequirement already satisfied: gym in /usr/local/lib/python3.7/dist-packages (0.17.3)\n",
            "Requirement already satisfied: protobuf>=3.6.1 in /usr/local/lib/python3.7/dist-packages (from tensorflow-gpu==1.15.0) (3.12.4)\n",
            "Collecting tensorboard<1.16.0,>=1.15.0\n",
            "\u001b[?25l  Downloading https://files.pythonhosted.org/packages/1e/e9/d3d747a97f7188f48aa5eda486907f3b345cd409f0a0850468ba867db246/tensorboard-1.15.0-py3-none-any.whl (3.8MB)\n",
            "\u001b[K     |████████████████████████████████| 3.8MB 45.7MB/s \n",
            "\u001b[?25hRequirement already satisfied: termcolor>=1.1.0 in /usr/local/lib/python3.7/dist-packages (from tensorflow-gpu==1.15.0) (1.1.0)\n",
            "Collecting tensorflow-estimator==1.15.1\n",
            "\u001b[?25l  Downloading https://files.pythonhosted.org/packages/de/62/2ee9cd74c9fa2fa450877847ba560b260f5d0fb70ee0595203082dafcc9d/tensorflow_estimator-1.15.1-py2.py3-none-any.whl (503kB)\n",
            "\u001b[K     |████████████████████████████████| 512kB 48.4MB/s \n",
            "\u001b[?25hRequirement already satisfied: absl-py>=0.7.0 in /usr/local/lib/python3.7/dist-packages (from tensorflow-gpu==1.15.0) (0.12.0)\n",
            "Requirement already satisfied: wheel>=0.26 in /usr/local/lib/python3.7/dist-packages (from tensorflow-gpu==1.15.0) (0.36.2)\n",
            "Requirement already satisfied: keras-preprocessing>=1.0.5 in /usr/local/lib/python3.7/dist-packages (from tensorflow-gpu==1.15.0) (1.1.2)\n",
            "Requirement already satisfied: numpy<2.0,>=1.16.0 in /usr/local/lib/python3.7/dist-packages (from tensorflow-gpu==1.15.0) (1.19.5)\n",
            "Requirement already satisfied: astor>=0.6.0 in /usr/local/lib/python3.7/dist-packages (from tensorflow-gpu==1.15.0) (0.8.1)\n",
            "Requirement already satisfied: opt-einsum>=2.3.2 in /usr/local/lib/python3.7/dist-packages (from tensorflow-gpu==1.15.0) (3.3.0)\n",
            "Collecting keras-applications>=1.0.8\n",
            "\u001b[?25l  Downloading https://files.pythonhosted.org/packages/71/e3/19762fdfc62877ae9102edf6342d71b28fbfd9dea3d2f96a882ce099b03f/Keras_Applications-1.0.8-py3-none-any.whl (50kB)\n",
            "\u001b[K     |████████████████████████████████| 51kB 8.6MB/s \n",
            "\u001b[?25hRequirement already satisfied: six>=1.10.0 in /usr/local/lib/python3.7/dist-packages (from tensorflow-gpu==1.15.0) (1.15.0)\n",
            "Requirement already satisfied: google-pasta>=0.1.6 in /usr/local/lib/python3.7/dist-packages (from tensorflow-gpu==1.15.0) (0.2.0)\n",
            "Collecting gast==0.2.2\n",
            "  Downloading https://files.pythonhosted.org/packages/4e/35/11749bf99b2d4e3cceb4d55ca22590b0d7c2c62b9de38ac4a4a7f4687421/gast-0.2.2.tar.gz\n",
            "Requirement already satisfied: grpcio>=1.8.6 in /usr/local/lib/python3.7/dist-packages (from tensorflow-gpu==1.15.0) (1.34.1)\n",
            "Requirement already satisfied: wrapt>=1.11.1 in /usr/local/lib/python3.7/dist-packages (from tensorflow-gpu==1.15.0) (1.12.1)\n",
            "Requirement already satisfied: cloudpickle>=0.5.5 in /usr/local/lib/python3.7/dist-packages (from stable-baselines) (1.3.0)\n",
            "Requirement already satisfied: pandas in /usr/local/lib/python3.7/dist-packages (from stable-baselines) (1.1.5)\n",
            "Requirement already satisfied: matplotlib in /usr/local/lib/python3.7/dist-packages (from stable-baselines) (3.2.2)\n",
            "Requirement already satisfied: opencv-python in /usr/local/lib/python3.7/dist-packages (from stable-baselines) (4.1.2.30)\n",
            "Requirement already satisfied: scipy in /usr/local/lib/python3.7/dist-packages (from stable-baselines) (1.4.1)\n",
            "Requirement already satisfied: joblib in /usr/local/lib/python3.7/dist-packages (from stable-baselines) (1.0.1)\n",
            "Requirement already satisfied: pyglet<=1.5.0,>=1.4.0 in /usr/local/lib/python3.7/dist-packages (from gym) (1.5.0)\n",
            "Requirement already satisfied: setuptools in /usr/local/lib/python3.7/dist-packages (from protobuf>=3.6.1->tensorflow-gpu==1.15.0) (56.1.0)\n",
            "Requirement already satisfied: markdown>=2.6.8 in /usr/local/lib/python3.7/dist-packages (from tensorboard<1.16.0,>=1.15.0->tensorflow-gpu==1.15.0) (3.3.4)\n",
            "Requirement already satisfied: werkzeug>=0.11.15 in /usr/local/lib/python3.7/dist-packages (from tensorboard<1.16.0,>=1.15.0->tensorflow-gpu==1.15.0) (1.0.1)\n",
            "Requirement already satisfied: h5py in /usr/local/lib/python3.7/dist-packages (from keras-applications>=1.0.8->tensorflow-gpu==1.15.0) (3.1.0)\n",
            "Requirement already satisfied: python-dateutil>=2.7.3 in /usr/local/lib/python3.7/dist-packages (from pandas->stable-baselines) (2.8.1)\n",
            "Requirement already satisfied: pytz>=2017.2 in /usr/local/lib/python3.7/dist-packages (from pandas->stable-baselines) (2018.9)\n",
            "Requirement already satisfied: pyparsing!=2.0.4,!=2.1.2,!=2.1.6,>=2.0.1 in /usr/local/lib/python3.7/dist-packages (from matplotlib->stable-baselines) (2.4.7)\n",
            "Requirement already satisfied: cycler>=0.10 in /usr/local/lib/python3.7/dist-packages (from matplotlib->stable-baselines) (0.10.0)\n",
            "Requirement already satisfied: kiwisolver>=1.0.1 in /usr/local/lib/python3.7/dist-packages (from matplotlib->stable-baselines) (1.3.1)\n",
            "Requirement already satisfied: future in /usr/local/lib/python3.7/dist-packages (from pyglet<=1.5.0,>=1.4.0->gym) (0.16.0)\n",
            "Requirement already satisfied: importlib-metadata; python_version < \"3.8\" in /usr/local/lib/python3.7/dist-packages (from markdown>=2.6.8->tensorboard<1.16.0,>=1.15.0->tensorflow-gpu==1.15.0) (4.0.1)\n",
            "Requirement already satisfied: cached-property; python_version < \"3.8\" in /usr/local/lib/python3.7/dist-packages (from h5py->keras-applications>=1.0.8->tensorflow-gpu==1.15.0) (1.5.2)\n",
            "Requirement already satisfied: typing-extensions>=3.6.4; python_version < \"3.8\" in /usr/local/lib/python3.7/dist-packages (from importlib-metadata; python_version < \"3.8\"->markdown>=2.6.8->tensorboard<1.16.0,>=1.15.0->tensorflow-gpu==1.15.0) (3.7.4.3)\n",
            "Requirement already satisfied: zipp>=0.5 in /usr/local/lib/python3.7/dist-packages (from importlib-metadata; python_version < \"3.8\"->markdown>=2.6.8->tensorboard<1.16.0,>=1.15.0->tensorflow-gpu==1.15.0) (3.4.1)\n",
            "Building wheels for collected packages: gast\n",
            "  Building wheel for gast (setup.py) ... \u001b[?25l\u001b[?25hdone\n",
            "  Created wheel for gast: filename=gast-0.2.2-cp37-none-any.whl size=7540 sha256=a6c895a26e01b05f3a234cb42f119a25632e4f112f9d2b822808decfb93f85b2\n",
            "  Stored in directory: /root/.cache/pip/wheels/5c/2e/7e/a1d4d4fcebe6c381f378ce7743a3ced3699feb89bcfbdadadd\n",
            "Successfully built gast\n",
            "\u001b[31mERROR: tensorflow-probability 0.12.1 has requirement gast>=0.3.2, but you'll have gast 0.2.2 which is incompatible.\u001b[0m\n",
            "\u001b[31mERROR: kapre 0.3.5 has requirement tensorflow>=2.0.0, but you'll have tensorflow 1.15.0 which is incompatible.\u001b[0m\n",
            "Installing collected packages: tensorboard, tensorflow-estimator, keras-applications, gast, tensorflow-gpu, tensorflow, stable-baselines, gym-anytrading\n",
            "  Found existing installation: tensorboard 2.5.0\n",
            "    Uninstalling tensorboard-2.5.0:\n",
            "      Successfully uninstalled tensorboard-2.5.0\n",
            "  Found existing installation: tensorflow-estimator 2.5.0\n",
            "    Uninstalling tensorflow-estimator-2.5.0:\n",
            "      Successfully uninstalled tensorflow-estimator-2.5.0\n",
            "  Found existing installation: gast 0.4.0\n",
            "    Uninstalling gast-0.4.0:\n",
            "      Successfully uninstalled gast-0.4.0\n",
            "  Found existing installation: tensorflow 2.5.0\n",
            "    Uninstalling tensorflow-2.5.0:\n",
            "      Successfully uninstalled tensorflow-2.5.0\n",
            "Successfully installed gast-0.2.2 gym-anytrading-1.2.0 keras-applications-1.0.8 stable-baselines-2.10.2 tensorboard-1.15.0 tensorflow-1.15.0 tensorflow-estimator-1.15.1 tensorflow-gpu-1.15.0\n"
          ],
          "name": "stdout"
        },
        {
          "output_type": "display_data",
          "data": {
            "application/vnd.colab-display-data+json": {
              "pip_warning": {
                "packages": [
                  "tensorboard"
                ]
              }
            }
          },
          "metadata": {
            "tags": []
          }
        }
      ]
    },
    {
      "cell_type": "code",
      "metadata": {
        "colab": {
          "base_uri": "https://localhost:8080/"
        },
        "id": "--zm1nBL0uub",
        "outputId": "c73c9dc7-294d-482e-ea29-7c893ef5fbc9"
      },
      "source": [
        "%%bash\n",
        "git clone https://github.com/AminHP/gym-anytrading\n",
        "cd gym-anytrading; pip install -e .\n"
      ],
      "execution_count": null,
      "outputs": [
        {
          "output_type": "stream",
          "text": [
            "Obtaining file:///content/gym-anytrading\n",
            "Requirement already satisfied: gym>=0.12.5 in /usr/local/lib/python3.7/dist-packages (from gym-anytrading==1.2.0) (0.17.3)\n",
            "Requirement already satisfied: numpy>=1.16.4 in /usr/local/lib/python3.7/dist-packages (from gym-anytrading==1.2.0) (1.19.5)\n",
            "Requirement already satisfied: pandas>=0.24.2 in /usr/local/lib/python3.7/dist-packages (from gym-anytrading==1.2.0) (1.1.5)\n",
            "Requirement already satisfied: matplotlib>=3.1.1 in /usr/local/lib/python3.7/dist-packages (from gym-anytrading==1.2.0) (3.2.2)\n",
            "Requirement already satisfied: pyglet<=1.5.0,>=1.4.0 in /usr/local/lib/python3.7/dist-packages (from gym>=0.12.5->gym-anytrading==1.2.0) (1.5.0)\n",
            "Requirement already satisfied: cloudpickle<1.7.0,>=1.2.0 in /usr/local/lib/python3.7/dist-packages (from gym>=0.12.5->gym-anytrading==1.2.0) (1.3.0)\n",
            "Requirement already satisfied: scipy in /usr/local/lib/python3.7/dist-packages (from gym>=0.12.5->gym-anytrading==1.2.0) (1.4.1)\n",
            "Requirement already satisfied: python-dateutil>=2.7.3 in /usr/local/lib/python3.7/dist-packages (from pandas>=0.24.2->gym-anytrading==1.2.0) (2.8.1)\n",
            "Requirement already satisfied: pytz>=2017.2 in /usr/local/lib/python3.7/dist-packages (from pandas>=0.24.2->gym-anytrading==1.2.0) (2018.9)\n",
            "Requirement already satisfied: pyparsing!=2.0.4,!=2.1.2,!=2.1.6,>=2.0.1 in /usr/local/lib/python3.7/dist-packages (from matplotlib>=3.1.1->gym-anytrading==1.2.0) (2.4.7)\n",
            "Requirement already satisfied: cycler>=0.10 in /usr/local/lib/python3.7/dist-packages (from matplotlib>=3.1.1->gym-anytrading==1.2.0) (0.10.0)\n",
            "Requirement already satisfied: kiwisolver>=1.0.1 in /usr/local/lib/python3.7/dist-packages (from matplotlib>=3.1.1->gym-anytrading==1.2.0) (1.3.1)\n",
            "Requirement already satisfied: future in /usr/local/lib/python3.7/dist-packages (from pyglet<=1.5.0,>=1.4.0->gym>=0.12.5->gym-anytrading==1.2.0) (0.16.0)\n",
            "Requirement already satisfied: six>=1.5 in /usr/local/lib/python3.7/dist-packages (from python-dateutil>=2.7.3->pandas>=0.24.2->gym-anytrading==1.2.0) (1.15.0)\n",
            "Installing collected packages: gym-anytrading\n",
            "  Found existing installation: gym-anytrading 1.2.0\n",
            "    Uninstalling gym-anytrading-1.2.0:\n",
            "      Successfully uninstalled gym-anytrading-1.2.0\n",
            "  Running setup.py develop for gym-anytrading\n",
            "Successfully installed gym-anytrading\n"
          ],
          "name": "stdout"
        },
        {
          "output_type": "stream",
          "text": [
            "Cloning into 'gym-anytrading'...\n"
          ],
          "name": "stderr"
        }
      ]
    },
    {
      "cell_type": "code",
      "metadata": {
        "id": "YICVmwIF6FF1",
        "colab": {
          "base_uri": "https://localhost:8080/"
        },
        "outputId": "753c3dd8-fe88-4f17-b363-baa0776c20e7"
      },
      "source": [
        "import numpy as np\n",
        "import pandas as pd\n",
        "import datetime\n",
        "from sklearn.preprocessing import MinMaxScaler\n",
        "from tensorflow import keras\n",
        "from tensorflow.keras.layers import Dense, LSTM, Dropout,Flatten\n",
        "from tensorflow.keras import Sequential\n",
        "#from keras.preprocessing.sequence import TimeseriesGenerator\n",
        "import matplotlib.pyplot as plt"
      ],
      "execution_count": null,
      "outputs": [
        {
          "output_type": "stream",
          "text": [
            "/usr/local/lib/python3.7/dist-packages/tensorflow/python/framework/dtypes.py:516: FutureWarning: Passing (type, 1) or '1type' as a synonym of type is deprecated; in a future version of numpy, it will be understood as (type, (1,)) / '(1,)type'.\n",
            "  _np_qint8 = np.dtype([(\"qint8\", np.int8, 1)])\n",
            "/usr/local/lib/python3.7/dist-packages/tensorflow/python/framework/dtypes.py:517: FutureWarning: Passing (type, 1) or '1type' as a synonym of type is deprecated; in a future version of numpy, it will be understood as (type, (1,)) / '(1,)type'.\n",
            "  _np_quint8 = np.dtype([(\"quint8\", np.uint8, 1)])\n",
            "/usr/local/lib/python3.7/dist-packages/tensorflow/python/framework/dtypes.py:518: FutureWarning: Passing (type, 1) or '1type' as a synonym of type is deprecated; in a future version of numpy, it will be understood as (type, (1,)) / '(1,)type'.\n",
            "  _np_qint16 = np.dtype([(\"qint16\", np.int16, 1)])\n",
            "/usr/local/lib/python3.7/dist-packages/tensorflow/python/framework/dtypes.py:519: FutureWarning: Passing (type, 1) or '1type' as a synonym of type is deprecated; in a future version of numpy, it will be understood as (type, (1,)) / '(1,)type'.\n",
            "  _np_quint16 = np.dtype([(\"quint16\", np.uint16, 1)])\n",
            "/usr/local/lib/python3.7/dist-packages/tensorflow/python/framework/dtypes.py:520: FutureWarning: Passing (type, 1) or '1type' as a synonym of type is deprecated; in a future version of numpy, it will be understood as (type, (1,)) / '(1,)type'.\n",
            "  _np_qint32 = np.dtype([(\"qint32\", np.int32, 1)])\n",
            "/usr/local/lib/python3.7/dist-packages/tensorflow/python/framework/dtypes.py:525: FutureWarning: Passing (type, 1) or '1type' as a synonym of type is deprecated; in a future version of numpy, it will be understood as (type, (1,)) / '(1,)type'.\n",
            "  np_resource = np.dtype([(\"resource\", np.ubyte, 1)])\n",
            "/usr/local/lib/python3.7/dist-packages/tensorboard/compat/tensorflow_stub/dtypes.py:541: FutureWarning: Passing (type, 1) or '1type' as a synonym of type is deprecated; in a future version of numpy, it will be understood as (type, (1,)) / '(1,)type'.\n",
            "  _np_qint8 = np.dtype([(\"qint8\", np.int8, 1)])\n",
            "/usr/local/lib/python3.7/dist-packages/tensorboard/compat/tensorflow_stub/dtypes.py:542: FutureWarning: Passing (type, 1) or '1type' as a synonym of type is deprecated; in a future version of numpy, it will be understood as (type, (1,)) / '(1,)type'.\n",
            "  _np_quint8 = np.dtype([(\"quint8\", np.uint8, 1)])\n",
            "/usr/local/lib/python3.7/dist-packages/tensorboard/compat/tensorflow_stub/dtypes.py:543: FutureWarning: Passing (type, 1) or '1type' as a synonym of type is deprecated; in a future version of numpy, it will be understood as (type, (1,)) / '(1,)type'.\n",
            "  _np_qint16 = np.dtype([(\"qint16\", np.int16, 1)])\n",
            "/usr/local/lib/python3.7/dist-packages/tensorboard/compat/tensorflow_stub/dtypes.py:544: FutureWarning: Passing (type, 1) or '1type' as a synonym of type is deprecated; in a future version of numpy, it will be understood as (type, (1,)) / '(1,)type'.\n",
            "  _np_quint16 = np.dtype([(\"quint16\", np.uint16, 1)])\n",
            "/usr/local/lib/python3.7/dist-packages/tensorboard/compat/tensorflow_stub/dtypes.py:545: FutureWarning: Passing (type, 1) or '1type' as a synonym of type is deprecated; in a future version of numpy, it will be understood as (type, (1,)) / '(1,)type'.\n",
            "  _np_qint32 = np.dtype([(\"qint32\", np.int32, 1)])\n",
            "/usr/local/lib/python3.7/dist-packages/tensorboard/compat/tensorflow_stub/dtypes.py:550: FutureWarning: Passing (type, 1) or '1type' as a synonym of type is deprecated; in a future version of numpy, it will be understood as (type, (1,)) / '(1,)type'.\n",
            "  np_resource = np.dtype([(\"resource\", np.ubyte, 1)])\n"
          ],
          "name": "stderr"
        }
      ]
    },
    {
      "cell_type": "code",
      "metadata": {
        "id": "AYEpdOte5l6Q"
      },
      "source": [
        "df = pd.read_csv('/content/drive/MyDrive/bitstampUSD_1-min_data_2012-01-01_to_2021-03-31.csv')"
      ],
      "execution_count": null,
      "outputs": []
    },
    {
      "cell_type": "code",
      "metadata": {
        "colab": {
          "base_uri": "https://localhost:8080/",
          "height": 235
        },
        "id": "tZ6eN0VW6K0I",
        "outputId": "32c4d70a-912d-4edf-e135-288ff389d027"
      },
      "source": [
        "df[\"Date\"] = pd.to_datetime(df[\"Timestamp\"],unit=\"s\").dt.date\n",
        "df=df.groupby(\"Date\").mean()\n",
        "df.head()"
      ],
      "execution_count": null,
      "outputs": [
        {
          "output_type": "execute_result",
          "data": {
            "text/html": [
              "<div>\n",
              "<style scoped>\n",
              "    .dataframe tbody tr th:only-of-type {\n",
              "        vertical-align: middle;\n",
              "    }\n",
              "\n",
              "    .dataframe tbody tr th {\n",
              "        vertical-align: top;\n",
              "    }\n",
              "\n",
              "    .dataframe thead th {\n",
              "        text-align: right;\n",
              "    }\n",
              "</style>\n",
              "<table border=\"1\" class=\"dataframe\">\n",
              "  <thead>\n",
              "    <tr style=\"text-align: right;\">\n",
              "      <th></th>\n",
              "      <th>Timestamp</th>\n",
              "      <th>Open</th>\n",
              "      <th>High</th>\n",
              "      <th>Low</th>\n",
              "      <th>Close</th>\n",
              "      <th>Volume_(BTC)</th>\n",
              "      <th>Volume_(Currency)</th>\n",
              "      <th>Weighted_Price</th>\n",
              "    </tr>\n",
              "    <tr>\n",
              "      <th>Date</th>\n",
              "      <th></th>\n",
              "      <th></th>\n",
              "      <th></th>\n",
              "      <th></th>\n",
              "      <th></th>\n",
              "      <th></th>\n",
              "      <th></th>\n",
              "      <th></th>\n",
              "    </tr>\n",
              "  </thead>\n",
              "  <tbody>\n",
              "    <tr>\n",
              "      <th>2011-12-31</th>\n",
              "      <td>1325346930</td>\n",
              "      <td>4.465000</td>\n",
              "      <td>4.482500</td>\n",
              "      <td>4.465000</td>\n",
              "      <td>4.482500</td>\n",
              "      <td>23.829470</td>\n",
              "      <td>106.330084</td>\n",
              "      <td>4.471603</td>\n",
              "    </tr>\n",
              "    <tr>\n",
              "      <th>2012-01-01</th>\n",
              "      <td>1325419170</td>\n",
              "      <td>4.806667</td>\n",
              "      <td>4.806667</td>\n",
              "      <td>4.806667</td>\n",
              "      <td>4.806667</td>\n",
              "      <td>7.200667</td>\n",
              "      <td>35.259720</td>\n",
              "      <td>4.806667</td>\n",
              "    </tr>\n",
              "    <tr>\n",
              "      <th>2012-01-02</th>\n",
              "      <td>1325505570</td>\n",
              "      <td>5.000000</td>\n",
              "      <td>5.000000</td>\n",
              "      <td>5.000000</td>\n",
              "      <td>5.000000</td>\n",
              "      <td>19.048000</td>\n",
              "      <td>95.240000</td>\n",
              "      <td>5.000000</td>\n",
              "    </tr>\n",
              "    <tr>\n",
              "      <th>2012-01-03</th>\n",
              "      <td>1325591970</td>\n",
              "      <td>5.252500</td>\n",
              "      <td>5.252500</td>\n",
              "      <td>5.252500</td>\n",
              "      <td>5.252500</td>\n",
              "      <td>11.004660</td>\n",
              "      <td>58.100651</td>\n",
              "      <td>5.252500</td>\n",
              "    </tr>\n",
              "    <tr>\n",
              "      <th>2012-01-04</th>\n",
              "      <td>1325678370</td>\n",
              "      <td>5.200000</td>\n",
              "      <td>5.223333</td>\n",
              "      <td>5.200000</td>\n",
              "      <td>5.223333</td>\n",
              "      <td>11.914807</td>\n",
              "      <td>63.119577</td>\n",
              "      <td>5.208159</td>\n",
              "    </tr>\n",
              "  </tbody>\n",
              "</table>\n",
              "</div>"
            ],
            "text/plain": [
              "             Timestamp      Open  ...  Volume_(Currency)  Weighted_Price\n",
              "Date                              ...                                   \n",
              "2011-12-31  1325346930  4.465000  ...         106.330084        4.471603\n",
              "2012-01-01  1325419170  4.806667  ...          35.259720        4.806667\n",
              "2012-01-02  1325505570  5.000000  ...          95.240000        5.000000\n",
              "2012-01-03  1325591970  5.252500  ...          58.100651        5.252500\n",
              "2012-01-04  1325678370  5.200000  ...          63.119577        5.208159\n",
              "\n",
              "[5 rows x 8 columns]"
            ]
          },
          "metadata": {
            "tags": []
          },
          "execution_count": 3
        }
      ]
    },
    {
      "cell_type": "code",
      "metadata": {
        "id": "oYXhOeE59nA_"
      },
      "source": [
        "df = df.drop(columns=['Timestamp', 'Volume_(Currency)', 'Weighted_Price'])"
      ],
      "execution_count": null,
      "outputs": []
    },
    {
      "cell_type": "code",
      "metadata": {
        "colab": {
          "base_uri": "https://localhost:8080/",
          "height": 450
        },
        "id": "E31saLVrJkAx",
        "outputId": "322130eb-cbde-4f6f-e96d-dccc5dc4667f"
      },
      "source": [
        "df"
      ],
      "execution_count": null,
      "outputs": [
        {
          "output_type": "execute_result",
          "data": {
            "text/html": [
              "<div>\n",
              "<style scoped>\n",
              "    .dataframe tbody tr th:only-of-type {\n",
              "        vertical-align: middle;\n",
              "    }\n",
              "\n",
              "    .dataframe tbody tr th {\n",
              "        vertical-align: top;\n",
              "    }\n",
              "\n",
              "    .dataframe thead th {\n",
              "        text-align: right;\n",
              "    }\n",
              "</style>\n",
              "<table border=\"1\" class=\"dataframe\">\n",
              "  <thead>\n",
              "    <tr style=\"text-align: right;\">\n",
              "      <th></th>\n",
              "      <th>Open</th>\n",
              "      <th>High</th>\n",
              "      <th>Low</th>\n",
              "      <th>Close</th>\n",
              "      <th>Volume_(BTC)</th>\n",
              "    </tr>\n",
              "    <tr>\n",
              "      <th>Date</th>\n",
              "      <th></th>\n",
              "      <th></th>\n",
              "      <th></th>\n",
              "      <th></th>\n",
              "      <th></th>\n",
              "    </tr>\n",
              "  </thead>\n",
              "  <tbody>\n",
              "    <tr>\n",
              "      <th>2011-12-31</th>\n",
              "      <td>4.465000</td>\n",
              "      <td>4.482500</td>\n",
              "      <td>4.465000</td>\n",
              "      <td>4.482500</td>\n",
              "      <td>23.829470</td>\n",
              "    </tr>\n",
              "    <tr>\n",
              "      <th>2012-01-01</th>\n",
              "      <td>4.806667</td>\n",
              "      <td>4.806667</td>\n",
              "      <td>4.806667</td>\n",
              "      <td>4.806667</td>\n",
              "      <td>7.200667</td>\n",
              "    </tr>\n",
              "    <tr>\n",
              "      <th>2012-01-02</th>\n",
              "      <td>5.000000</td>\n",
              "      <td>5.000000</td>\n",
              "      <td>5.000000</td>\n",
              "      <td>5.000000</td>\n",
              "      <td>19.048000</td>\n",
              "    </tr>\n",
              "    <tr>\n",
              "      <th>2012-01-03</th>\n",
              "      <td>5.252500</td>\n",
              "      <td>5.252500</td>\n",
              "      <td>5.252500</td>\n",
              "      <td>5.252500</td>\n",
              "      <td>11.004660</td>\n",
              "    </tr>\n",
              "    <tr>\n",
              "      <th>2012-01-04</th>\n",
              "      <td>5.200000</td>\n",
              "      <td>5.223333</td>\n",
              "      <td>5.200000</td>\n",
              "      <td>5.223333</td>\n",
              "      <td>11.914807</td>\n",
              "    </tr>\n",
              "    <tr>\n",
              "      <th>...</th>\n",
              "      <td>...</td>\n",
              "      <td>...</td>\n",
              "      <td>...</td>\n",
              "      <td>...</td>\n",
              "      <td>...</td>\n",
              "    </tr>\n",
              "    <tr>\n",
              "      <th>2021-03-27</th>\n",
              "      <td>55193.240643</td>\n",
              "      <td>55219.665031</td>\n",
              "      <td>55168.757372</td>\n",
              "      <td>55195.415367</td>\n",
              "      <td>1.823877</td>\n",
              "    </tr>\n",
              "    <tr>\n",
              "      <th>2021-03-28</th>\n",
              "      <td>55833.608471</td>\n",
              "      <td>55857.735342</td>\n",
              "      <td>55810.425126</td>\n",
              "      <td>55835.012863</td>\n",
              "      <td>1.447939</td>\n",
              "    </tr>\n",
              "    <tr>\n",
              "      <th>2021-03-29</th>\n",
              "      <td>56914.886595</td>\n",
              "      <td>56946.213593</td>\n",
              "      <td>56885.242967</td>\n",
              "      <td>56915.629993</td>\n",
              "      <td>3.732887</td>\n",
              "    </tr>\n",
              "    <tr>\n",
              "      <th>2021-03-30</th>\n",
              "      <td>58347.805624</td>\n",
              "      <td>58371.955310</td>\n",
              "      <td>58323.956690</td>\n",
              "      <td>58349.357087</td>\n",
              "      <td>2.363999</td>\n",
              "    </tr>\n",
              "    <tr>\n",
              "      <th>2021-03-31</th>\n",
              "      <td>58767.750000</td>\n",
              "      <td>58778.180000</td>\n",
              "      <td>58755.970000</td>\n",
              "      <td>58778.180000</td>\n",
              "      <td>2.712831</td>\n",
              "    </tr>\n",
              "  </tbody>\n",
              "</table>\n",
              "<p>3376 rows × 5 columns</p>\n",
              "</div>"
            ],
            "text/plain": [
              "                    Open          High  ...         Close  Volume_(BTC)\n",
              "Date                                    ...                            \n",
              "2011-12-31      4.465000      4.482500  ...      4.482500     23.829470\n",
              "2012-01-01      4.806667      4.806667  ...      4.806667      7.200667\n",
              "2012-01-02      5.000000      5.000000  ...      5.000000     19.048000\n",
              "2012-01-03      5.252500      5.252500  ...      5.252500     11.004660\n",
              "2012-01-04      5.200000      5.223333  ...      5.223333     11.914807\n",
              "...                  ...           ...  ...           ...           ...\n",
              "2021-03-27  55193.240643  55219.665031  ...  55195.415367      1.823877\n",
              "2021-03-28  55833.608471  55857.735342  ...  55835.012863      1.447939\n",
              "2021-03-29  56914.886595  56946.213593  ...  56915.629993      3.732887\n",
              "2021-03-30  58347.805624  58371.955310  ...  58349.357087      2.363999\n",
              "2021-03-31  58767.750000  58778.180000  ...  58778.180000      2.712831\n",
              "\n",
              "[3376 rows x 5 columns]"
            ]
          },
          "metadata": {
            "tags": []
          },
          "execution_count": 5
        }
      ]
    },
    {
      "cell_type": "code",
      "metadata": {
        "id": "eryhqmGJIe0X"
      },
      "source": [
        "df = df.rename(columns = {'Volume_(BTC)': 'Volume'}, inplace = False)"
      ],
      "execution_count": null,
      "outputs": []
    },
    {
      "cell_type": "code",
      "metadata": {
        "colab": {
          "base_uri": "https://localhost:8080/",
          "height": 450
        },
        "id": "xDOAA5tqHtra",
        "outputId": "75aa64fa-9e4e-4596-94f1-27de447d59f4"
      },
      "source": [
        "df"
      ],
      "execution_count": null,
      "outputs": [
        {
          "output_type": "execute_result",
          "data": {
            "text/html": [
              "<div>\n",
              "<style scoped>\n",
              "    .dataframe tbody tr th:only-of-type {\n",
              "        vertical-align: middle;\n",
              "    }\n",
              "\n",
              "    .dataframe tbody tr th {\n",
              "        vertical-align: top;\n",
              "    }\n",
              "\n",
              "    .dataframe thead th {\n",
              "        text-align: right;\n",
              "    }\n",
              "</style>\n",
              "<table border=\"1\" class=\"dataframe\">\n",
              "  <thead>\n",
              "    <tr style=\"text-align: right;\">\n",
              "      <th></th>\n",
              "      <th>Open</th>\n",
              "      <th>High</th>\n",
              "      <th>Low</th>\n",
              "      <th>Close</th>\n",
              "      <th>Volume</th>\n",
              "    </tr>\n",
              "    <tr>\n",
              "      <th>Date</th>\n",
              "      <th></th>\n",
              "      <th></th>\n",
              "      <th></th>\n",
              "      <th></th>\n",
              "      <th></th>\n",
              "    </tr>\n",
              "  </thead>\n",
              "  <tbody>\n",
              "    <tr>\n",
              "      <th>2011-12-31</th>\n",
              "      <td>4.465000</td>\n",
              "      <td>4.482500</td>\n",
              "      <td>4.465000</td>\n",
              "      <td>4.482500</td>\n",
              "      <td>23.829470</td>\n",
              "    </tr>\n",
              "    <tr>\n",
              "      <th>2012-01-01</th>\n",
              "      <td>4.806667</td>\n",
              "      <td>4.806667</td>\n",
              "      <td>4.806667</td>\n",
              "      <td>4.806667</td>\n",
              "      <td>7.200667</td>\n",
              "    </tr>\n",
              "    <tr>\n",
              "      <th>2012-01-02</th>\n",
              "      <td>5.000000</td>\n",
              "      <td>5.000000</td>\n",
              "      <td>5.000000</td>\n",
              "      <td>5.000000</td>\n",
              "      <td>19.048000</td>\n",
              "    </tr>\n",
              "    <tr>\n",
              "      <th>2012-01-03</th>\n",
              "      <td>5.252500</td>\n",
              "      <td>5.252500</td>\n",
              "      <td>5.252500</td>\n",
              "      <td>5.252500</td>\n",
              "      <td>11.004660</td>\n",
              "    </tr>\n",
              "    <tr>\n",
              "      <th>2012-01-04</th>\n",
              "      <td>5.200000</td>\n",
              "      <td>5.223333</td>\n",
              "      <td>5.200000</td>\n",
              "      <td>5.223333</td>\n",
              "      <td>11.914807</td>\n",
              "    </tr>\n",
              "    <tr>\n",
              "      <th>...</th>\n",
              "      <td>...</td>\n",
              "      <td>...</td>\n",
              "      <td>...</td>\n",
              "      <td>...</td>\n",
              "      <td>...</td>\n",
              "    </tr>\n",
              "    <tr>\n",
              "      <th>2021-03-27</th>\n",
              "      <td>55193.240643</td>\n",
              "      <td>55219.665031</td>\n",
              "      <td>55168.757372</td>\n",
              "      <td>55195.415367</td>\n",
              "      <td>1.823877</td>\n",
              "    </tr>\n",
              "    <tr>\n",
              "      <th>2021-03-28</th>\n",
              "      <td>55833.608471</td>\n",
              "      <td>55857.735342</td>\n",
              "      <td>55810.425126</td>\n",
              "      <td>55835.012863</td>\n",
              "      <td>1.447939</td>\n",
              "    </tr>\n",
              "    <tr>\n",
              "      <th>2021-03-29</th>\n",
              "      <td>56914.886595</td>\n",
              "      <td>56946.213593</td>\n",
              "      <td>56885.242967</td>\n",
              "      <td>56915.629993</td>\n",
              "      <td>3.732887</td>\n",
              "    </tr>\n",
              "    <tr>\n",
              "      <th>2021-03-30</th>\n",
              "      <td>58347.805624</td>\n",
              "      <td>58371.955310</td>\n",
              "      <td>58323.956690</td>\n",
              "      <td>58349.357087</td>\n",
              "      <td>2.363999</td>\n",
              "    </tr>\n",
              "    <tr>\n",
              "      <th>2021-03-31</th>\n",
              "      <td>58767.750000</td>\n",
              "      <td>58778.180000</td>\n",
              "      <td>58755.970000</td>\n",
              "      <td>58778.180000</td>\n",
              "      <td>2.712831</td>\n",
              "    </tr>\n",
              "  </tbody>\n",
              "</table>\n",
              "<p>3376 rows × 5 columns</p>\n",
              "</div>"
            ],
            "text/plain": [
              "                    Open          High           Low         Close     Volume\n",
              "Date                                                                         \n",
              "2011-12-31      4.465000      4.482500      4.465000      4.482500  23.829470\n",
              "2012-01-01      4.806667      4.806667      4.806667      4.806667   7.200667\n",
              "2012-01-02      5.000000      5.000000      5.000000      5.000000  19.048000\n",
              "2012-01-03      5.252500      5.252500      5.252500      5.252500  11.004660\n",
              "2012-01-04      5.200000      5.223333      5.200000      5.223333  11.914807\n",
              "...                  ...           ...           ...           ...        ...\n",
              "2021-03-27  55193.240643  55219.665031  55168.757372  55195.415367   1.823877\n",
              "2021-03-28  55833.608471  55857.735342  55810.425126  55835.012863   1.447939\n",
              "2021-03-29  56914.886595  56946.213593  56885.242967  56915.629993   3.732887\n",
              "2021-03-30  58347.805624  58371.955310  58323.956690  58349.357087   2.363999\n",
              "2021-03-31  58767.750000  58778.180000  58755.970000  58778.180000   2.712831\n",
              "\n",
              "[3376 rows x 5 columns]"
            ]
          },
          "metadata": {
            "tags": []
          },
          "execution_count": 7
        }
      ]
    },
    {
      "cell_type": "code",
      "metadata": {
        "id": "xX1u8U9n01ge"
      },
      "source": [
        "import gym\n",
        "import gym_anytrading\n",
        "\n",
        "\n",
        "env = gym.make('stocks-v0', df = df, window_size =20, frame_bound = (20,len(df)))"
      ],
      "execution_count": null,
      "outputs": []
    },
    {
      "cell_type": "code",
      "metadata": {
        "colab": {
          "base_uri": "https://localhost:8080/"
        },
        "id": "BjNBCjUj_MP5",
        "outputId": "966883aa-a8f1-4ade-86d0-782ca8ee862d"
      },
      "source": [
        "env.action_space"
      ],
      "execution_count": null,
      "outputs": [
        {
          "output_type": "execute_result",
          "data": {
            "text/plain": [
              "Discrete(2)"
            ]
          },
          "metadata": {
            "tags": []
          },
          "execution_count": 86
        }
      ]
    },
    {
      "cell_type": "code",
      "metadata": {
        "colab": {
          "base_uri": "https://localhost:8080/",
          "height": 1000
        },
        "id": "VpEBTGgP1aZb",
        "outputId": "a19d16ef-196e-4b2d-c62b-94f60834146b"
      },
      "source": [
        "observation = env.reset()\n",
        "while True:\n",
        "    action = env.action_space.sample()\n",
        "    observation, reward, done, info = env.step(action)\n",
        "    # env.render()\n",
        "    if done:\n",
        "        print(\"info:\", info)\n",
        "        break\n",
        "plt.figure(figsize=(20,20))\n",
        "plt.cla()\n",
        "env.render_all()\n",
        "plt.show()"
      ],
      "execution_count": null,
      "outputs": [
        {
          "output_type": "stream",
          "text": [
            "info: {'total_reward': 40297.13498703863, 'total_profit': 0.0006216381760905948, 'position': 1}\n"
          ],
          "name": "stdout"
        },
        {
          "output_type": "display_data",
          "data": {
            "image/png": "[encoded data removed]",
            "text/plain": [
              "<Figure size 1440x1440 with 1 Axes>"
            ]
          },
          "metadata": {
            "tags": [],
            "needs_background": "light"
          }
        }
      ]
    },
    {
      "cell_type": "code",
      "metadata": {
        "colab": {
          "base_uri": "https://localhost:8080/"
        },
        "id": "kDTmye6vNayp",
        "outputId": "e10b6010-9a9a-4c7d-fd7b-052363d35496"
      },
      "source": [
        "!pip install A2C"
      ],
      "execution_count": null,
      "outputs": [
        {
          "output_type": "stream",
          "text": [
            "\u001b[31mERROR: Could not find a version that satisfies the requirement A2C (from versions: none)\u001b[0m\n",
            "\u001b[31mERROR: No matching distribution found for A2C\u001b[0m\n"
          ],
          "name": "stdout"
        }
      ]
    },
    {
      "cell_type": "code",
      "metadata": {
        "colab": {
          "base_uri": "https://localhost:8080/"
        },
        "id": "zRwj9Zf1aTlm",
        "outputId": "db5afa49-1b07-4231-8d06-de77e7150b05"
      },
      "source": [
        "!pip install tensorflow.contrib"
      ],
      "execution_count": null,
      "outputs": [
        {
          "output_type": "stream",
          "text": [
            "\u001b[31mERROR: Could not find a version that satisfies the requirement tensorflow.contrib (from versions: none)\u001b[0m\n",
            "\u001b[31mERROR: No matching distribution found for tensorflow.contrib\u001b[0m\n"
          ],
          "name": "stdout"
        }
      ]
    },
    {
      "cell_type": "code",
      "metadata": {
        "colab": {
          "base_uri": "https://localhost:8080/"
        },
        "id": "yup8cXTxOmy6",
        "outputId": "580a1842-4db9-463e-dbe1-d1dec92ee1bb"
      },
      "source": [
        "!pip install stable_baselines"
      ],
      "execution_count": null,
      "outputs": [
        {
          "output_type": "stream",
          "text": [
            "Collecting stable_baselines\n",
            "\u001b[?25l  Downloading https://files.pythonhosted.org/packages/a2/c5/a60adb848f86219d19dd2d2bc4223b80e8d42802cc9e816955b6cfeffbdb/stable_baselines-2.10.2-py3-none-any.whl (240kB)\n",
            "\r\u001b[K     |█▍                              | 10kB 22.4MB/s eta 0:00:01\r\u001b[K     |██▊                             | 20kB 30.0MB/s eta 0:00:01\r\u001b[K     |████                            | 30kB 32.5MB/s eta 0:00:01\r\u001b[K     |█████▍                          | 40kB 30.4MB/s eta 0:00:01\r\u001b[K     |██████▉                         | 51kB 30.3MB/s eta 0:00:01\r\u001b[K     |████████▏                       | 61kB 28.7MB/s eta 0:00:01\r\u001b[K     |█████████▌                      | 71kB 29.9MB/s eta 0:00:01\r\u001b[K     |██████████▉                     | 81kB 31.1MB/s eta 0:00:01\r\u001b[K     |████████████▎                   | 92kB 32.8MB/s eta 0:00:01\r\u001b[K     |█████████████▋                  | 102kB 30.2MB/s eta 0:00:01\r\u001b[K     |███████████████                 | 112kB 30.2MB/s eta 0:00:01\r\u001b[K     |████████████████▎               | 122kB 30.2MB/s eta 0:00:01\r\u001b[K     |█████████████████▊              | 133kB 30.2MB/s eta 0:00:01\r\u001b[K     |███████████████████             | 143kB 30.2MB/s eta 0:00:01\r\u001b[K     |████████████████████▍           | 153kB 30.2MB/s eta 0:00:01\r\u001b[K     |█████████████████████▊          | 163kB 30.2MB/s eta 0:00:01\r\u001b[K     |███████████████████████▏        | 174kB 30.2MB/s eta 0:00:01\r\u001b[K     |████████████████████████▌       | 184kB 30.2MB/s eta 0:00:01\r\u001b[K     |█████████████████████████▉      | 194kB 30.2MB/s eta 0:00:01\r\u001b[K     |███████████████████████████▏    | 204kB 30.2MB/s eta 0:00:01\r\u001b[K     |████████████████████████████▋   | 215kB 30.2MB/s eta 0:00:01\r\u001b[K     |██████████████████████████████  | 225kB 30.2MB/s eta 0:00:01\r\u001b[K     |███████████████████████████████▎| 235kB 30.2MB/s eta 0:00:01\r\u001b[K     |████████████████████████████████| 245kB 30.2MB/s \n",
            "\u001b[?25hRequirement already satisfied: scipy in /usr/local/lib/python3.7/dist-packages (from stable_baselines) (1.4.1)\n",
            "Requirement already satisfied: numpy in /usr/local/lib/python3.7/dist-packages (from stable_baselines) (1.19.5)\n",
            "Requirement already satisfied: matplotlib in /usr/local/lib/python3.7/dist-packages (from stable_baselines) (3.2.2)\n",
            "Requirement already satisfied: pandas in /usr/local/lib/python3.7/dist-packages (from stable_baselines) (1.1.5)\n",
            "Requirement already satisfied: cloudpickle>=0.5.5 in /usr/local/lib/python3.7/dist-packages (from stable_baselines) (1.3.0)\n",
            "Requirement already satisfied: opencv-python in /usr/local/lib/python3.7/dist-packages (from stable_baselines) (4.1.2.30)\n",
            "Requirement already satisfied: gym[atari,classic_control]>=0.11 in /usr/local/lib/python3.7/dist-packages (from stable_baselines) (0.17.3)\n",
            "Requirement already satisfied: joblib in /usr/local/lib/python3.7/dist-packages (from stable_baselines) (1.0.1)\n",
            "Requirement already satisfied: cycler>=0.10 in /usr/local/lib/python3.7/dist-packages (from matplotlib->stable_baselines) (0.10.0)\n",
            "Requirement already satisfied: pyparsing!=2.0.4,!=2.1.2,!=2.1.6,>=2.0.1 in /usr/local/lib/python3.7/dist-packages (from matplotlib->stable_baselines) (2.4.7)\n",
            "Requirement already satisfied: kiwisolver>=1.0.1 in /usr/local/lib/python3.7/dist-packages (from matplotlib->stable_baselines) (1.3.1)\n",
            "Requirement already satisfied: python-dateutil>=2.1 in /usr/local/lib/python3.7/dist-packages (from matplotlib->stable_baselines) (2.8.1)\n",
            "Requirement already satisfied: pytz>=2017.2 in /usr/local/lib/python3.7/dist-packages (from pandas->stable_baselines) (2018.9)\n",
            "Requirement already satisfied: pyglet<=1.5.0,>=1.4.0 in /usr/local/lib/python3.7/dist-packages (from gym[atari,classic_control]>=0.11->stable_baselines) (1.5.0)\n",
            "Requirement already satisfied: atari-py~=0.2.0; extra == \"atari\" in /usr/local/lib/python3.7/dist-packages (from gym[atari,classic_control]>=0.11->stable_baselines) (0.2.9)\n",
            "Requirement already satisfied: Pillow; extra == \"atari\" in /usr/local/lib/python3.7/dist-packages (from gym[atari,classic_control]>=0.11->stable_baselines) (7.1.2)\n",
            "Requirement already satisfied: six in /usr/local/lib/python3.7/dist-packages (from cycler>=0.10->matplotlib->stable_baselines) (1.15.0)\n",
            "Requirement already satisfied: future in /usr/local/lib/python3.7/dist-packages (from pyglet<=1.5.0,>=1.4.0->gym[atari,classic_control]>=0.11->stable_baselines) (0.16.0)\n",
            "Installing collected packages: stable-baselines\n",
            "Successfully installed stable-baselines-2.10.2\n"
          ],
          "name": "stdout"
        }
      ]
    },
    {
      "cell_type": "code",
      "metadata": {
        "id": "gWlLaCFsNYcK"
      },
      "source": [
        "# !pip install tensorflow==1.14.0\n",
        "# !pip install stable-baselines[mpi]==2.10.0\n",
        "import gym\n",
        "import gym_anytrading\n",
        "\n",
        "# Stable baselines - rl stuff\n",
        "from stable_baselines.common.policies import MlpPolicy, CnnPolicy\n",
        "from stable_baselines.common import make_vec_env\n",
        "from stable_baselines import A2C, ACER\n",
        "from stable_baselines.common.vec_env import DummyVecEnv\n",
        "import os\n",
        "from stable_baselines.bench import Monitor \n",
        "\n",
        "# Processing libraries\n",
        "import numpy as np\n",
        "import pandas as pd\n",
        "from matplotlib import pyplot as pl"
      ],
      "execution_count": null,
      "outputs": []
    },
    {
      "cell_type": "markdown",
      "metadata": {
        "id": "VCq_iA2_7dx3"
      },
      "source": [
        "#BTC_trade_class"
      ]
    },
    {
      "cell_type": "code",
      "metadata": {
        "id": "sidTl8iN7m9D"
      },
      "source": [
        "class BTC_agent:\n",
        "\n",
        "  def __init__(self, time_window, RL_alg, RL_net, log_path, df):\n",
        "    self.time_window = time_window\n",
        "    self.RL_alg = RL_alg\n",
        "    self.RL_net = RL_net\n",
        "    self.log_path = log_path\n",
        "    self.df = df\n",
        "\n",
        "  def make_learn_env(self):\n",
        "\n",
        "    if self.RL_alg == \"PPO1\":\n",
        "        env_maker = lambda: gym.make('stocks-v0', df=self.df, frame_bound=(self.time_window,(len(df)-100)), window_size=self.time_window)\n",
        "        env = DummyVecEnv([env_maker])\n",
        "\n",
        "        model = PPO1(self.RL_net, env, verbose=1, tensorboard_log=self.log_path) \n",
        "        model.learn(total_timesteps=1000000)\n",
        "        model.save(f\"{self.log_path}/tradebot\")\n",
        "\n",
        "    elif self.RL_alg == \"A2C\":\n",
        "\n",
        "        env_maker = lambda: gym.make('stocks-v0', df=self.df, frame_bound=(self.time_window,(len(df)-100)), window_size=self.time_window)\n",
        "        env = DummyVecEnv([env_maker])\n",
        "\n",
        "        model = A2C(self.RL_net, env, verbose=1, tensorboard_log=self.log_path) \n",
        "        model.learn(total_timesteps=100000)\n",
        "        model.save(f\"{self.log_path}/tradebot\")\n",
        "        self.model = model\n",
        "        return self.model\n",
        "\n",
        "    elif self.RL_alg == \"ACKTR\":\n",
        "\n",
        "        env_maker = lambda: gym.make('stocks-v0', df=self.df, frame_bound=(self.time_window,(len(df)-100)), window_size=self.time_window)\n",
        "        env = DummyVecEnv([env_maker])\n",
        "\n",
        "        model = ACKTR(self.RL_net, env, verbose=1, tensorboard_log=self.log_path) \n",
        "        model.learn(total_timesteps=10000)\n",
        "        model.save(f\"{self.log_path}/tradebot\")\n",
        "        self.model = model\n",
        "        return self.model\n",
        "\n",
        "    elif self.RL_alg == \"TRPO\":\n",
        "\n",
        "        env_maker = lambda: gym.make('stocks-v0', df=self.df, frame_bound=(self.time_window,(len(df)-100)), window_size=self.time_window)\n",
        "        env = DummyVecEnv([env_maker])\n",
        "\n",
        "        model = TRPO(self.RL_net, env, verbose=1, tensorboard_log=self.log_path) \n",
        "        model.learn(total_timesteps=30000)\n",
        "        model.save(f\"{self.log_path}/tradebot\")\n",
        "        self.model = model\n",
        "        return self.model\n",
        "\n",
        "  def evaluate(self):\n",
        "\n",
        "      env = gym.make('stocks-v0', df=self.df, frame_bound=((len(self.df)-100),len(self.df)), window_size= self.time_window)\n",
        "      self.env =env\n",
        "      obs = self.env.reset()\n",
        "      while True: \n",
        "          obs = obs[np.newaxis, ...]\n",
        "          action, _states = self.model.predict(obs)\n",
        "          obs, rewards, done, info = self.env.step(action)\n",
        "          \n",
        "          if done:\n",
        "              print(\"info\", info)\n",
        "              break\n",
        "\n",
        "  def plot_trade_proccessing(self):\n",
        "\n",
        "        plt.figure(figsize=(25,10))\n",
        "        plt.cla()\n",
        "        self.env.render_all()\n",
        "        plt.show()\n"
      ],
      "execution_count": null,
      "outputs": []
    }
  ]
}